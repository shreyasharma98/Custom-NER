{
 "cells": [
  {
   "cell_type": "markdown",
   "metadata": {},
   "source": [
    "# Crime Attribute Extraction App "
   ]
  },
  {
   "cell_type": "markdown",
   "metadata": {
    "colab_type": "text",
    "id": "nYOpdGW39AW6"
   },
   "source": [
    "##  Part  1"
   ]
  },
  {
   "cell_type": "markdown",
   "metadata": {},
   "source": [
    "Loading Dataseet"
   ]
  },
  {
   "cell_type": "code",
   "execution_count": 10,
   "metadata": {
    "colab": {},
    "colab_type": "code",
    "id": "iKl4v1WT6SGE"
   },
   "outputs": [],
   "source": [
    "from CoNLL2Spacy import *"
   ]
  },
  {
   "cell_type": "code",
   "execution_count": 18,
   "metadata": {
    "colab": {
     "base_uri": "https://localhost:8080/",
     "height": 1000
    },
    "colab_type": "code",
    "id": "1h9G_oOx6SJN",
    "outputId": "6a0055be-3450-4b36-abcb-ccff9aed3597"
   },
   "outputs": [
    {
     "data": {
      "text/plain": [
       "['French B-gpe',\n",
       " 'government O',\n",
       " 'has O',\n",
       " 'condemned O',\n",
       " 'remarks O',\n",
       " 'by O',\n",
       " 'a O',\n",
       " 'top O',\n",
       " 'Vatican B-geo',\n",
       " 'official O',\n",
       " 'linking O',\n",
       " 'the O',\n",
       " 'pedophile O',\n",
       " 'scandal O',\n",
       " 'in O']"
      ]
     },
     "execution_count": 18,
     "metadata": {},
     "output_type": "execute_result"
    }
   ],
   "source": [
    "# Test File\n",
    "file = open(\"data/Crimetest.txt\", \"r\",encoding = \"utf-8\") \n",
    "valList = []\n",
    "for line in file:\n",
    "    valList.append(line[:-1])\n",
    "valList[:15]"
   ]
  },
  {
   "cell_type": "code",
   "execution_count": 12,
   "metadata": {
    "colab": {},
    "colab_type": "code",
    "id": "tokkaRI46X64"
   },
   "outputs": [],
   "source": [
    "TEST_DATA = conll2spacy(valList)"
   ]
  },
  {
   "cell_type": "code",
   "execution_count": 14,
   "metadata": {
    "colab": {
     "base_uri": "https://localhost:8080/",
     "height": 272
    },
    "colab_type": "code",
    "id": "qfOT4a8S6pnm",
    "outputId": "0b914bb7-30f6-44a5-a715-b3db131b3aed"
   },
   "outputs": [
    {
     "data": {
      "text/plain": [
       "['Thousands O',\n",
       " 'of O',\n",
       " 'demonstrators O',\n",
       " 'have O',\n",
       " 'marched O',\n",
       " 'through O',\n",
       " 'London B-geo',\n",
       " 'to O',\n",
       " 'protest O',\n",
       " 'the O',\n",
       " 'war O',\n",
       " 'in O',\n",
       " 'Iraq B-geo',\n",
       " 'and O',\n",
       " 'demand O']"
      ]
     },
     "execution_count": 14,
     "metadata": {},
     "output_type": "execute_result"
    }
   ],
   "source": [
    "# Train File\n",
    "file = open(\"data/Crimetrain.txt\", \"r\",encoding = \"utf-8\") \n",
    "trainList = []\n",
    "for line in file:\n",
    "    trainList.append(line[:-1])\n",
    "trainList[:15]"
   ]
  },
  {
   "cell_type": "code",
   "execution_count": 15,
   "metadata": {
    "colab": {},
    "colab_type": "code",
    "id": "tmXFZVQJ60xS"
   },
   "outputs": [],
   "source": [
    "TRAIN_DATA = conll2spacy(trainList)"
   ]
  },
  {
   "cell_type": "code",
   "execution_count": 17,
   "metadata": {
    "colab": {},
    "colab_type": "code",
    "id": "n_wZrijEjRaG"
   },
   "outputs": [],
   "source": [
    "import warnings\n",
    "warnings.filterwarnings('ignore')"
   ]
  },
  {
   "cell_type": "code",
   "execution_count": 5,
   "metadata": {
    "colab": {},
    "colab_type": "code",
    "id": "TweFhaxJjtyO"
   },
   "outputs": [],
   "source": [
    "import spacy\n",
    "import numpy\n",
    "import pickle\n"
   ]
  },
  {
   "cell_type": "code",
   "execution_count": 19,
   "metadata": {
    "colab": {},
    "colab_type": "code",
    "id": "zANMD5rljij8"
   },
   "outputs": [],
   "source": [
    "lang=\"en\"\n",
    "vectors_loc = \"wiki-news-300d-1M.vec\"\n",
    "nlp = spacy.blank(lang)    \n",
    "with open(vectors_loc, \"rb\") as file_:        \n",
    "    header = file_.readline()        \n",
    "    nr_row, nr_dim = header.split()        \n",
    "    nlp.vocab.reset_vectors(width=int(nr_dim))        \n",
    "    for line in file_:            \n",
    "        line = line.rstrip().decode(\"utf8\")            \n",
    "        pieces = line.rsplit(\" \", int(nr_dim))            \n",
    "        word = pieces[0]            \n",
    "        vector = numpy.asarray([float(v) for v in pieces[1:]], dtype=\"f\")            \n",
    "        nlp.vocab.set_vector(word, vector)  # add the vectors to the vocab   "
   ]
  },
  {
   "cell_type": "code",
   "execution_count": 20,
   "metadata": {
    "colab": {
     "base_uri": "https://localhost:8080/",
     "height": 34
    },
    "colab_type": "code",
    "id": "AuvQpVLPjRaT",
    "outputId": "c0aecd32-9baa-4fc1-ce7d-44a1ba0e2017"
   },
   "outputs": [
    {
     "name": "stdout",
     "output_type": "stream",
     "text": [
      "similarity btw I and my  :- 0.5550758\n"
     ]
    }
   ],
   "source": [
    "text = \"I lost my wallet in metro yesterday\"    \n",
    "doc = nlp(text)    \n",
    "print(\"similarity btw\",doc[0] , \"and\", doc[2],\" :-\", doc[0].similarity(doc[2]))"
   ]
  },
  {
   "cell_type": "markdown",
   "metadata": {
    "colab_type": "text",
    "id": "VKn6YehgjRap"
   },
   "source": [
    "# Part  2"
   ]
  },
  {
   "cell_type": "markdown",
   "metadata": {
    "colab_type": "text",
    "id": "xGY9RoeGjRaq"
   },
   "source": [
    "Steps involved :- \n",
    "1. Loading required library\n",
    "2. Setting up the parameters for traning\n",
    "3. Traning and saving the best model"
   ]
  },
  {
   "cell_type": "code",
   "execution_count": 39,
   "metadata": {
    "colab": {},
    "colab_type": "code",
    "id": "f33b-LXvjRar"
   },
   "outputs": [],
   "source": [
    "import spacy\n",
    "import random # random function for to remove bais in Traning Data\n",
    "\n",
    "# for batch parsing \n",
    "from spacy.util import minibatch, compounding\n",
    "\n",
    "\n",
    "# For evaluateing the model from testing set\n",
    "from spacy.gold import GoldParse\n",
    "from spacy.scorer import Scorer\n"
   ]
  },
  {
   "cell_type": "code",
   "execution_count": 40,
   "metadata": {
    "colab": {},
    "colab_type": "code",
    "id": "cW3dDFWgjRau"
   },
   "outputs": [],
   "source": [
    "def train_spacy(TRAIN_DATA,TEST_DATA,iterations,droprate = 0.5,modelName = \"modelTrained\"):\n",
    "\n",
    "    lang=\"en\"\n",
    "    vectors_loc = \"wiki-news-300d-1M.vec\"\n",
    "    modiner = spacy.blank(lang)    \n",
    "    with open(vectors_loc, \"rb\") as file_:        \n",
    "        header = file_.readline()        \n",
    "        nr_row, nr_dim = header.split()        \n",
    "        modiner.vocab.reset_vectors(width=int(nr_dim))        \n",
    "        for line in file_:            \n",
    "            line = line.rstrip().decode(\"utf8\")            \n",
    "            pieces = line.rsplit(\" \", int(nr_dim))            \n",
    "            word = pieces[0]            \n",
    "            vector = numpy.asarray([float(v) for v in pieces[1:]], dtype=\"f\")            \n",
    "            modiner.vocab.set_vector(word, vector)  # add the vectors to the vocab    \n",
    "    if 'ner' not in modiner.pipe_names:\n",
    "        ner = modiner.create_pipe('ner')\n",
    "        modiner.add_pipe(ner, last=True)\n",
    "     \n",
    "    # setting up f1score\n",
    "    f1score = 0.0000\n",
    "\n",
    "    \n",
    "    # add labels that will be involved in training \n",
    "    for _, annotations in TRAIN_DATA:\n",
    "         for ent in annotations.get('entities'):\n",
    "            ner.add_label(ent[2])\n",
    "            \n",
    "\n",
    "    # get names of other pipes to disable them during training\n",
    "    other_pipes = [pipe for pipe in modiner.pipe_names if pipe != 'ner']\n",
    "    with modiner.disable_pipes(*other_pipes):  # only train NER\n",
    "        optimizer = modiner.begin_training()\n",
    "        \n",
    "        # --Iterations Starts--\n",
    "        for itn in range(iterations):\n",
    "            print(\"Starting iteration \" + str(itn))\n",
    "            #--Shuffling Traning Data--\n",
    "            random.shuffle(TRAIN_DATA)\n",
    "            losses = {}\n",
    "            \n",
    "                      \n",
    "                    \n",
    "            # batch Traning For better Training and Learning of model\n",
    "            batches = minibatch(TRAIN_DATA, size=compounding(2.0, 16.0, 1.01))\n",
    "            for batch in batches:\n",
    "                texts, annotations = zip(*batch)\n",
    "                modiner.update(\n",
    "                    texts,  # batch of texts\n",
    "                    annotations,  # batch of annotations\n",
    "                    drop=droprate,  # dropout - make it harder to memorise data\n",
    "                    losses=losses,\n",
    "                )\n",
    "            print(losses)\n",
    "            \n",
    "            \n",
    "            # Evaluating the Current Model Score on test data\n",
    "            results = evaluate(modiner, TEST_DATA)\n",
    "            print(\"Current Score :-\",results[\"ents_f\"], \"Precision  :-\",results[\"ents_p\"], \"Recall  :-\",results[\"ents_r\"])\n",
    "            \n",
    "\n",
    "            \n",
    "            # loading previous best saved model in start of traning \n",
    "            if f1score == 0.00:\n",
    "                try:                    \n",
    "                    pnlp = spacy.load(modelName)\n",
    "                    result = evaluate(pnlp, TEST_DATA) # calling evaluate function \n",
    "                    f1score = result[\"ents_f\"]\n",
    "                except:\n",
    "                    print(\"Previous Model not found\")\n",
    "                    \n",
    "            print(\"Best Sccore :- \",f1score)\n",
    "            print(\"------------------------------------\")\n",
    "            # finding out the best score\n",
    "            if f1score < results[\"ents_f\"]:\n",
    "                f1score = results[\"ents_f\"]\n",
    "                \n",
    "                # Save our trained Model if the score if grater than best score else no change in previous model\n",
    "                modiner.to_disk(modelName)\n",
    "                \n",
    "    print(\"-----Best Model is Saved-----\")\n",
    "     \n"
   ]
  },
  {
   "cell_type": "code",
   "execution_count": 41,
   "metadata": {
    "colab": {},
    "colab_type": "code",
    "id": "xRX87HJnjRay"
   },
   "outputs": [],
   "source": [
    "def evaluate(ner_model, examples):\n",
    "    scorer = Scorer()\n",
    "     \n",
    "    #loading tags for each input and Evaluating them\n",
    "    for input_, annotations in examples:\n",
    "        tags = []\n",
    "        # loading text\n",
    "        doc_gold_text = ner_model.make_doc(input_)\n",
    "        \n",
    "        #loading all tags for that text\n",
    "        for ent in annotations.get('entities'):\n",
    "            tags.append(ent)\n",
    "            \n",
    "        # Evaluating the tags    \n",
    "        gold = GoldParse(doc_gold_text, entities=tags)\n",
    "        pred_value = ner_model(input_)\n",
    "        scorer.score(pred_value, gold)\n",
    "        \n",
    "        \n",
    "    return scorer.scores\n"
   ]
  },
  {
   "cell_type": "code",
   "execution_count": 2,
   "metadata": {
    "colab": {},
    "colab_type": "code",
    "id": "Yz4LfssbjRa0"
   },
   "outputs": [],
   "source": [
    "def loadNERModel(modelName = \"modelTrained\"):\n",
    "    nlp = spacy.load(modelName)\n",
    "    return nlp"
   ]
  },
  {
   "cell_type": "code",
   "execution_count": 3,
   "metadata": {
    "colab": {},
    "colab_type": "code",
    "id": "guqS2EGBjRa3"
   },
   "outputs": [],
   "source": [
    "def score(model,TEST_DATA):\n",
    "    result = evaluate(model, TEST_DATA) # calling evaluate function \n",
    "    f1score = result[\"ents_f\"]\n",
    "    precision = result[\"ents_p\"]\n",
    "    recall = result[\"ents_r\"]\n",
    "    print(\"F1 score of Model is :-\",f1score)\n",
    "    print(\"Precision of Model is :-\",precision)\n",
    "    print(\"Recall of Model is :-\",recall)"
   ]
  },
  {
   "cell_type": "code",
   "execution_count": null,
   "metadata": {},
   "outputs": [],
   "source": [
    "# traning the model with 100 iterations\n",
    "\n",
    "\n",
    "train_spacy(TRAIN_DATA,TEST_DATA, 50,droprate = 0.55, modelName = \"CrimeNER\")"
   ]
  },
  {
   "cell_type": "code",
   "execution_count": 6,
   "metadata": {
    "colab": {},
    "colab_type": "code",
    "id": "afOFw7bCjRbB"
   },
   "outputs": [],
   "source": [
    "# loading the saved model\n",
    "pnlp = loadNERModel(\"CrimeNER\")"
   ]
  },
  {
   "cell_type": "code",
   "execution_count": 46,
   "metadata": {},
   "outputs": [
    {
     "name": "stdout",
     "output_type": "stream",
     "text": [
      "F1 score of Model is :- 86.47551444580847\n",
      "Precision of Model is :- 87.0393931979447\n",
      "Recall of Model is :- 85.91889476607976\n"
     ]
    }
   ],
   "source": [
    "# calculating the score of the model\n",
    "score(pnlp,TEST_DATA)"
   ]
  },
  {
   "cell_type": "code",
   "execution_count": 8,
   "metadata": {
    "colab": {},
    "colab_type": "code",
    "id": "Fq3fKUBujRbI"
   },
   "outputs": [],
   "source": [
    "from spacy import displacy\n"
   ]
  },
  {
   "cell_type": "code",
   "execution_count": 9,
   "metadata": {
    "colab": {},
    "colab_type": "code",
    "id": "vvywkBOA9AY2",
    "outputId": "1f7365cc-fc1b-403e-865b-547d44f35bcc"
   },
   "outputs": [
    {
     "data": {
      "text/html": [
       "<span class=\"tex2jax_ignore\"><div class=\"entities\" style=\"line-height: 2.5; direction: ltr\">he was \n",
       "<mark class=\"entity\" style=\"background: #ddd; padding: 0.45em 0.6em; margin: 0 0.25em; line-height: 1; border-radius: 0.35em;\">\n",
       "    killed\n",
       "    <span style=\"font-size: 0.8em; font-weight: bold; line-height: 1; border-radius: 0.35em; text-transform: uppercase; vertical-align: middle; margin-left: 0.5rem\">B-Crime</span>\n",
       "</mark>\n",
       " due to \n",
       "<mark class=\"entity\" style=\"background: #ddd; padding: 0.45em 0.6em; margin: 0 0.25em; line-height: 1; border-radius: 0.35em;\">\n",
       "    harassment\n",
       "    <span style=\"font-size: 0.8em; font-weight: bold; line-height: 1; border-radius: 0.35em; text-transform: uppercase; vertical-align: middle; margin-left: 0.5rem\">B-Crime</span>\n",
       "</mark>\n",
       "</div></span>"
      ],
      "text/plain": [
       "<IPython.core.display.HTML object>"
      ]
     },
     "metadata": {},
     "output_type": "display_data"
    }
   ],
   "source": [
    "testcase = pnlp('he was killed due to harassment')\n",
    "displacy.render(testcase, style='ent', jupyter=True)"
   ]
  },
  {
   "cell_type": "code",
   "execution_count": 10,
   "metadata": {},
   "outputs": [
    {
     "data": {
      "text/html": [
       "<span class=\"tex2jax_ignore\"><div class=\"entities\" style=\"line-height: 2.5; direction: ltr\">A woman was \n",
       "<mark class=\"entity\" style=\"background: #ddd; padding: 0.45em 0.6em; margin: 0 0.25em; line-height: 1; border-radius: 0.35em;\">\n",
       "    assault\n",
       "    <span style=\"font-size: 0.8em; font-weight: bold; line-height: 1; border-radius: 0.35em; text-transform: uppercase; vertical-align: middle; margin-left: 0.5rem\">B-Crime</span>\n",
       "</mark>\n",
       " by two men near \n",
       "<mark class=\"entity\" style=\"background: #ddd; padding: 0.45em 0.6em; margin: 0 0.25em; line-height: 1; border-radius: 0.35em;\">\n",
       "    Shahdara\n",
       "    <span style=\"font-size: 0.8em; font-weight: bold; line-height: 1; border-radius: 0.35em; text-transform: uppercase; vertical-align: middle; margin-left: 0.5rem\">B-geo</span>\n",
       "</mark>\n",
       "</div></span>"
      ],
      "text/plain": [
       "<IPython.core.display.HTML object>"
      ]
     },
     "metadata": {},
     "output_type": "display_data"
    }
   ],
   "source": [
    "testcase = pnlp('A woman was assault by two men near Shahdara')\n",
    "displacy.render(testcase, style='ent', jupyter=True)"
   ]
  },
  {
   "cell_type": "code",
   "execution_count": 11,
   "metadata": {},
   "outputs": [
    {
     "data": {
      "text/html": [
       "<span class=\"tex2jax_ignore\"><div class=\"entities\" style=\"line-height: 2.5; direction: ltr\">My name is \n",
       "<mark class=\"entity\" style=\"background: #ddd; padding: 0.45em 0.6em; margin: 0 0.25em; line-height: 1; border-radius: 0.35em;\">\n",
       "    Pooja\n",
       "    <span style=\"font-size: 0.8em; font-weight: bold; line-height: 1; border-radius: 0.35em; text-transform: uppercase; vertical-align: middle; margin-left: 0.5rem\">B-per</span>\n",
       "</mark>\n",
       " \n",
       "<mark class=\"entity\" style=\"background: #ddd; padding: 0.45em 0.6em; margin: 0 0.25em; line-height: 1; border-radius: 0.35em;\">\n",
       "    I\n",
       "    <span style=\"font-size: 0.8em; font-weight: bold; line-height: 1; border-radius: 0.35em; text-transform: uppercase; vertical-align: middle; margin-left: 0.5rem\">I-per</span>\n",
       "</mark>\n",
       " was near \n",
       "<mark class=\"entity\" style=\"background: #ddd; padding: 0.45em 0.6em; margin: 0 0.25em; line-height: 1; border-radius: 0.35em;\">\n",
       "    Domino-pizza\n",
       "    <span style=\"font-size: 0.8em; font-weight: bold; line-height: 1; border-radius: 0.35em; text-transform: uppercase; vertical-align: middle; margin-left: 0.5rem\">B-org</span>\n",
       "</mark>\n",
       " in \n",
       "<mark class=\"entity\" style=\"background: #ddd; padding: 0.45em 0.6em; margin: 0 0.25em; line-height: 1; border-radius: 0.35em;\">\n",
       "    Pinjore\n",
       "    <span style=\"font-size: 0.8em; font-weight: bold; line-height: 1; border-radius: 0.35em; text-transform: uppercase; vertical-align: middle; margin-left: 0.5rem\">B-geo</span>\n",
       "</mark>\n",
       " a man on bike \n",
       "<mark class=\"entity\" style=\"background: #ddd; padding: 0.45em 0.6em; margin: 0 0.25em; line-height: 1; border-radius: 0.35em;\">\n",
       "    snatched\n",
       "    <span style=\"font-size: 0.8em; font-weight: bold; line-height: 1; border-radius: 0.35em; text-transform: uppercase; vertical-align: middle; margin-left: 0.5rem\">B-Crime</span>\n",
       "</mark>\n",
       " my purse</div></span>"
      ],
      "text/plain": [
       "<IPython.core.display.HTML object>"
      ]
     },
     "metadata": {},
     "output_type": "display_data"
    }
   ],
   "source": [
    "testcase = pnlp('My name is Pooja I was near Domino-pizza in Pinjore a man on bike snatched my purse')\n",
    "displacy.render(testcase, style='ent', jupyter=True)"
   ]
  },
  {
   "cell_type": "code",
   "execution_count": 12,
   "metadata": {},
   "outputs": [
    {
     "data": {
      "text/html": [
       "<span class=\"tex2jax_ignore\"><div class=\"entities\" style=\"line-height: 2.5; direction: ltr\">My name is \n",
       "<mark class=\"entity\" style=\"background: #ddd; padding: 0.45em 0.6em; margin: 0 0.25em; line-height: 1; border-radius: 0.35em;\">\n",
       "    Amit\n",
       "    <span style=\"font-size: 0.8em; font-weight: bold; line-height: 1; border-radius: 0.35em; text-transform: uppercase; vertical-align: middle; margin-left: 0.5rem\">B-per</span>\n",
       "</mark>\n",
       " \n",
       "<mark class=\"entity\" style=\"background: #ddd; padding: 0.45em 0.6em; margin: 0 0.25em; line-height: 1; border-radius: 0.35em;\">\n",
       "    I\n",
       "    <span style=\"font-size: 0.8em; font-weight: bold; line-height: 1; border-radius: 0.35em; text-transform: uppercase; vertical-align: middle; margin-left: 0.5rem\">I-per</span>\n",
       "</mark>\n",
       " saw a woman \n",
       "<mark class=\"entity\" style=\"background: #ddd; padding: 0.45em 0.6em; margin: 0 0.25em; line-height: 1; border-radius: 0.35em;\">\n",
       "    killing\n",
       "    <span style=\"font-size: 0.8em; font-weight: bold; line-height: 1; border-radius: 0.35em; text-transform: uppercase; vertical-align: middle; margin-left: 0.5rem\">B-Crime</span>\n",
       "</mark>\n",
       " a dog on \n",
       "<mark class=\"entity\" style=\"background: #ddd; padding: 0.45em 0.6em; margin: 0 0.25em; line-height: 1; border-radius: 0.35em;\">\n",
       "    15th\n",
       "    <span style=\"font-size: 0.8em; font-weight: bold; line-height: 1; border-radius: 0.35em; text-transform: uppercase; vertical-align: middle; margin-left: 0.5rem\">B-tim</span>\n",
       "</mark>\n",
       " \n",
       "<mark class=\"entity\" style=\"background: #ddd; padding: 0.45em 0.6em; margin: 0 0.25em; line-height: 1; border-radius: 0.35em;\">\n",
       "    july\n",
       "    <span style=\"font-size: 0.8em; font-weight: bold; line-height: 1; border-radius: 0.35em; text-transform: uppercase; vertical-align: middle; margin-left: 0.5rem\">I-tim</span>\n",
       "</mark>\n",
       " near \n",
       "<mark class=\"entity\" style=\"background: #ddd; padding: 0.45em 0.6em; margin: 0 0.25em; line-height: 1; border-radius: 0.35em;\">\n",
       "    Kalujhanda\n",
       "    <span style=\"font-size: 0.8em; font-weight: bold; line-height: 1; border-radius: 0.35em; text-transform: uppercase; vertical-align: middle; margin-left: 0.5rem\">B-geo</span>\n",
       "</mark>\n",
       "</div></span>"
      ],
      "text/plain": [
       "<IPython.core.display.HTML object>"
      ]
     },
     "metadata": {},
     "output_type": "display_data"
    }
   ],
   "source": [
    "testcase = pnlp('My name is Amit I saw a woman killing a dog on 15th july near Kalujhanda')\n",
    "displacy.render(testcase, style='ent', jupyter=True)"
   ]
  },
  {
   "cell_type": "code",
   "execution_count": 13,
   "metadata": {},
   "outputs": [
    {
     "data": {
      "text/html": [
       "<span class=\"tex2jax_ignore\"><div class=\"entities\" style=\"line-height: 2.5; direction: ltr\">A car \n",
       "<mark class=\"entity\" style=\"background: #ddd; padding: 0.45em 0.6em; margin: 0 0.25em; line-height: 1; border-radius: 0.35em;\">\n",
       "    hit\n",
       "    <span style=\"font-size: 0.8em; font-weight: bold; line-height: 1; border-radius: 0.35em; text-transform: uppercase; vertical-align: middle; margin-left: 0.5rem\">B-Crime</span>\n",
       "</mark>\n",
       " me at \n",
       "<mark class=\"entity\" style=\"background: #ddd; padding: 0.45em 0.6em; margin: 0 0.25em; line-height: 1; border-radius: 0.35em;\">\n",
       "    Mansarovar\n",
       "    <span style=\"font-size: 0.8em; font-weight: bold; line-height: 1; border-radius: 0.35em; text-transform: uppercase; vertical-align: middle; margin-left: 0.5rem\">B-geo</span>\n",
       "</mark>\n",
       " \n",
       "<mark class=\"entity\" style=\"background: #ddd; padding: 0.45em 0.6em; margin: 0 0.25em; line-height: 1; border-radius: 0.35em;\">\n",
       "    Park\n",
       "    <span style=\"font-size: 0.8em; font-weight: bold; line-height: 1; border-radius: 0.35em; text-transform: uppercase; vertical-align: middle; margin-left: 0.5rem\">I-geo</span>\n",
       "</mark>\n",
       " at 5pm wraped</div></span>"
      ],
      "text/plain": [
       "<IPython.core.display.HTML object>"
      ]
     },
     "metadata": {},
     "output_type": "display_data"
    }
   ],
   "source": [
    "testcase = pnlp('A car hit me at Mansarovar Park at 5pm wraped')\n",
    "displacy.render(testcase, style='ent', jupyter=True)"
   ]
  },
  {
   "cell_type": "code",
   "execution_count": 14,
   "metadata": {},
   "outputs": [
    {
     "data": {
      "text/html": [
       "<span class=\"tex2jax_ignore\"><div class=\"entities\" style=\"line-height: 2.5; direction: ltr\">\n",
       "<mark class=\"entity\" style=\"background: #ddd; padding: 0.45em 0.6em; margin: 0 0.25em; line-height: 1; border-radius: 0.35em;\">\n",
       "    Yesterday\n",
       "    <span style=\"font-size: 0.8em; font-weight: bold; line-height: 1; border-radius: 0.35em; text-transform: uppercase; vertical-align: middle; margin-left: 0.5rem\">B-tim</span>\n",
       "</mark>\n",
       " there was incident of \n",
       "<mark class=\"entity\" style=\"background: #ddd; padding: 0.45em 0.6em; margin: 0 0.25em; line-height: 1; border-radius: 0.35em;\">\n",
       "    theft\n",
       "    <span style=\"font-size: 0.8em; font-weight: bold; line-height: 1; border-radius: 0.35em; text-transform: uppercase; vertical-align: middle; margin-left: 0.5rem\">B-Crime</span>\n",
       "</mark>\n",
       " near my house</div></span>"
      ],
      "text/plain": [
       "<IPython.core.display.HTML object>"
      ]
     },
     "metadata": {},
     "output_type": "display_data"
    }
   ],
   "source": [
    "testcase = pnlp('Yesterday there was incident of theft near my house')\n",
    "displacy.render(testcase, style='ent', jupyter=True)"
   ]
  },
  {
   "cell_type": "code",
   "execution_count": 15,
   "metadata": {},
   "outputs": [
    {
     "data": {
      "text/html": [
       "<span class=\"tex2jax_ignore\"><div class=\"entities\" style=\"line-height: 2.5; direction: ltr\">A man slapped a girl in the \n",
       "<mark class=\"entity\" style=\"background: #ddd; padding: 0.45em 0.6em; margin: 0 0.25em; line-height: 1; border-radius: 0.35em;\">\n",
       "    Sadar\n",
       "    <span style=\"font-size: 0.8em; font-weight: bold; line-height: 1; border-radius: 0.35em; text-transform: uppercase; vertical-align: middle; margin-left: 0.5rem\">B-geo</span>\n",
       "</mark>\n",
       " market</div></span>"
      ],
      "text/plain": [
       "<IPython.core.display.HTML object>"
      ]
     },
     "metadata": {},
     "output_type": "display_data"
    }
   ],
   "source": [
    "testcase = pnlp('A man slapped a girl in the Sadar market')\n",
    "displacy.render(testcase, style='ent', jupyter=True)"
   ]
  },
  {
   "cell_type": "code",
   "execution_count": 16,
   "metadata": {},
   "outputs": [
    {
     "name": "stderr",
     "output_type": "stream",
     "text": [
      "C:\\Users\\Shreya\\anaconda3\\lib\\site-packages\\spacy\\displacy\\__init__.py:189: UserWarning: [W006] No entities to visualize found in Doc object. If this is surprising to you, make sure the Doc was processed using a model that supports named entity recognition, and check the `doc.ents` property manually if necessary.\n",
      "  warnings.warn(Warnings.W006)\n"
     ]
    },
    {
     "data": {
      "text/html": [
       "<span class=\"tex2jax_ignore\"><div class=\"entities\" style=\"line-height: 2.5; direction: ltr\">  </div></span>"
      ],
      "text/plain": [
       "<IPython.core.display.HTML object>"
      ]
     },
     "metadata": {},
     "output_type": "display_data"
    }
   ],
   "source": [
    "testcase = pnlp('  ')\n",
    "displacy.render(testcase, style='ent', jupyter=True)"
   ]
  },
  {
   "cell_type": "code",
   "execution_count": null,
   "metadata": {},
   "outputs": [],
   "source": [
    "testcase = pnlp('  ')\n",
    "displacy.render(testcase, style='ent', jupyter=True)"
   ]
  },
  {
   "cell_type": "code",
   "execution_count": null,
   "metadata": {},
   "outputs": [],
   "source": [
    "testcase = pnlp('  ')\n",
    "displacy.render(testcase, style='ent', jupyter=True)"
   ]
  },
  {
   "cell_type": "code",
   "execution_count": null,
   "metadata": {},
   "outputs": [],
   "source": [
    "testcase = pnlp('  ')\n",
    "displacy.render(testcase, style='ent', jupyter=True)"
   ]
  },
  {
   "cell_type": "code",
   "execution_count": null,
   "metadata": {},
   "outputs": [],
   "source": []
  },
  {
   "cell_type": "code",
   "execution_count": null,
   "metadata": {},
   "outputs": [],
   "source": []
  },
  {
   "cell_type": "code",
   "execution_count": null,
   "metadata": {},
   "outputs": [],
   "source": []
  },
  {
   "cell_type": "code",
   "execution_count": null,
   "metadata": {},
   "outputs": [],
   "source": []
  },
  {
   "cell_type": "code",
   "execution_count": null,
   "metadata": {},
   "outputs": [],
   "source": []
  },
  {
   "cell_type": "code",
   "execution_count": null,
   "metadata": {},
   "outputs": [],
   "source": []
  },
  {
   "cell_type": "code",
   "execution_count": null,
   "metadata": {},
   "outputs": [],
   "source": []
  }
 ],
 "metadata": {
  "colab": {
   "collapsed_sections": [],
   "name": "Hindi_Spacy_NER.ipynb",
   "provenance": []
  },
  "kernelspec": {
   "display_name": "Python 3",
   "language": "python",
   "name": "python3"
  },
  "language_info": {
   "codemirror_mode": {
    "name": "ipython",
    "version": 3
   },
   "file_extension": ".py",
   "mimetype": "text/x-python",
   "name": "python",
   "nbconvert_exporter": "python",
   "pygments_lexer": "ipython3",
   "version": "3.7.6"
  }
 },
 "nbformat": 4,
 "nbformat_minor": 1
}
